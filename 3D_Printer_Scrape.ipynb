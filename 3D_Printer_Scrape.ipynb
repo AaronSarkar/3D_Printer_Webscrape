{
 "cells": [
  {
   "cell_type": "code",
   "execution_count": 1,
   "metadata": {},
   "outputs": [],
   "source": [
    "import MyKeys\n",
    "from openai import OpenAI\n",
    "client = OpenAI(api_key = MyKeys.API_KEY)\n",
    "import csv\n",
    "from amazoncaptcha import AmazonCaptcha\n",
    "from selenium import webdriver\n",
    "from selenium.webdriver.common.by import By\n",
    "import pandas as pd"
   ]
  },
  {
   "cell_type": "code",
   "execution_count": 3,
   "metadata": {},
   "outputs": [],
   "source": [
    "s = webdriver.ChromeService('C:/Users/rakra/chromedriver-win64/chromedriver.exe')\n",
    "driver = webdriver.Chrome(service = s)\n",
    "\n",
    "driver.get('https://www.amazon.ca/errors/validateCaptcha')\n",
    "driver.implicitly_wait(10) # Let the user actually see something!\n",
    "link = driver.find_element(By.XPATH, \"//div[@class = 'a-row a-text-center']//img\").get_attribute('src')\n",
    "captcha = AmazonCaptcha.fromlink(link)\n",
    "captcha_value = AmazonCaptcha.solve(captcha)\n",
    "captchainput = driver.find_element(By.XPATH, \"//input[@id = 'captchacharacters']\").send_keys(captcha_value)\n",
    "driver.find_element(By.XPATH, \"//button[@class = 'a-button-text']\").click()\n",
    "driver.find_element(By.XPATH, \"//input[@id = 'twotabsearchtextbox']\").send_keys('3D Printers')\n",
    "driver.find_element(By.XPATH, \"//input[@id = 'nav-search-submit-button']\").click()"
   ]
  },
  {
   "cell_type": "code",
   "execution_count": 23,
   "metadata": {},
   "outputs": [],
   "source": [
    "links = []\n",
    "reviews = []\n",
    "ratings = []\n",
    "prices = []\n",
    "texts = []\n",
    "responses = []\n",
    "\n",
    "\n",
    "for i in range(3):\n",
    "    Numnames = len(driver.find_elements(By.XPATH, \"//a[@class = 'a-link-normal s-underline-text s-underline-link-text s-link-style a-text-normal']\"))\n",
    "    for j in range(Numnames):\n",
    "        printer = driver.find_element(By.XPATH, f\"(//a[@class = 'a-link-normal s-underline-text s-underline-link-text s-link-style a-text-normal'])[{j+1}]\")\n",
    "        link = printer.get_attribute('href')\n",
    "        driver.get(link)\n",
    "\n",
    "        try:\n",
    "            whole = driver.find_element(By.XPATH, \"(//span[@class = 'a-price-whole'])[1]\").text\n",
    "        except:\n",
    "            whole = '100000'\n",
    "        try:\n",
    "            decimal = driver.find_element(By.XPATH, \"(//span[@class = 'a-price-fraction'])[1]\").text\n",
    "        except:\n",
    "            decimal = '00'\n",
    "        try:\n",
    "            rating = driver.find_element(By.XPATH, \"(//span/a/span[@class = 'a-size-base a-color-base'])[1]\").text\n",
    "        except:\n",
    "            rating = 'N/A'\n",
    "        try:\n",
    "            review = driver.find_element(By.XPATH, \"(//span/a/span[@id = 'acrCustomerReviewText'])[1]\").text\n",
    "        except:\n",
    "            review = 'N/A'\n",
    "        try:\n",
    "            title = driver.find_element(By.XPATH, \"//span[@id = 'productTitle']\").text\n",
    "        except:\n",
    "            title = 'N/A'\n",
    "        try:\n",
    "            description = driver.find_element(By.XPATH, \"//div[@id = 'productDescription']\").text\n",
    "        except:\n",
    "            description = 'N/A'\n",
    "\n",
    "        links.append(link)\n",
    "        prices.append(whole + \".\" + decimal)\n",
    "        ratings.append(rating)\n",
    "        reviews.append(review)\n",
    "        texts.append(title + \" \" + description)\n",
    "        driver.back()\n",
    "    driver.find_element(By.XPATH, \"//a[@class='s-pagination-item s-pagination-next s-pagination-button s-pagination-separator']\").click()"
   ]
  },
  {
   "cell_type": "code",
   "execution_count": null,
   "metadata": {},
   "outputs": [],
   "source": [
    "names = []\n",
    "isprinter = []\n",
    "dimensions = []\n",
    "types = []\n",
    "speeds = []\n",
    "\n",
    "Products = len(links)\n",
    "\n",
    "for i in range(Products):\n",
    "    completion = client.chat.completions.create(\n",
    "        model=\"gpt-4o-mini\",\n",
    "        messages=[\n",
    "            {\"role\": \"system\", \"content\": \"You are a helpful assistant extracting 3D printer data.\"},\n",
    "            {\"role\": \"user\"  , \"content\": \"Tell me the name of the product (excluding extra details). Then tell me if the description given is a 3D printer (yes or no). Then extract the 3D-Printer build volume/size in the format L x W x H. Then the printer type (FDM, SLA, DLP, SLS, etc.), and the printer speed\"},\n",
    "            {\"role\": \"user\"  , \"content\": \"Avoid extracting product/package dimensions, ensure units for build volume are in mm, and printer speed is in mm/s. Convert if necessary, only put the numbers in the output.\"},\n",
    "            {\"role\": \"user\"  , \"content\": \"Put the output in the form 'Name, Yes or no if its a 3D printer, build volume, printer type, printer speed', put 'N/A' if you can not find the information\"},\n",
    "            {\"role\": \"user\"  , \"content\": texts[i]}\n",
    "        ]   \n",
    "        )\n",
    "    response = completion.choices[0].message.content\n",
    "    data = response.strip().split(\",\")\n",
    "    names.append(data[0])\n",
    "    isprinter.append(data[1])\n",
    "    dimensions.append(data[2])\n",
    "    types.append(data[3])\n",
    "    speeds.append(data[4])"
   ]
  },
  {
   "cell_type": "code",
   "execution_count": 26,
   "metadata": {},
   "outputs": [],
   "source": [
    "Dict = {\n",
    "    \"name\": names,\n",
    "    \"price\": prices,\n",
    "    \"Is it a 3D Printer?\": isprinter,\n",
    "    \"dimensions (mm)\": dimensions,\n",
    "    \"type\": types,\n",
    "    \"speed (mm/s)\": speeds,\n",
    "    \"rating\": ratings,\n",
    "    \"review\": reviews,\n",
    "    \"link\": links\n",
    "}\n",
    "\n",
    "with open('Amazon_3D_Printers.csv', 'w', newline='') as file:\n",
    "    writer = csv.DictWriter(file, fieldnames = Dict.keys())\n",
    "    writer.writeheader()\n",
    "    for i in range(Products):\n",
    "        row = {key: Dict[key][i] for key in Dict}\n",
    "        writer.writerow(row)"
   ]
  },
  {
   "cell_type": "code",
   "execution_count": 28,
   "metadata": {},
   "outputs": [],
   "source": [
    "Dataframe = pd.read_csv('Amazon_3D_Printers.csv')\n",
    "Dataframe = Dataframe.drop_duplicates(subset = 'name', keep = 'first')\n",
    "Dataframe = Dataframe[Dataframe['Is it a 3D Printer?'].str.strip().str.lower() == 'yes']\n",
    "Dataframe.to_csv('Amazon_3D_Printers_Filtered.csv', index = False)"
   ]
  }
 ],
 "metadata": {
  "kernelspec": {
   "display_name": "Python 3",
   "language": "python",
   "name": "python3"
  },
  "language_info": {
   "codemirror_mode": {
    "name": "ipython",
    "version": 3
   },
   "file_extension": ".py",
   "mimetype": "text/x-python",
   "name": "python",
   "nbconvert_exporter": "python",
   "pygments_lexer": "ipython3",
   "version": "3.11.5"
  }
 },
 "nbformat": 4,
 "nbformat_minor": 2
}
